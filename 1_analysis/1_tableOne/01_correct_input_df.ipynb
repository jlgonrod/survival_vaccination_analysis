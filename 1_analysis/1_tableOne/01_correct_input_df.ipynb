{
 "cells": [
  {
   "cell_type": "markdown",
   "metadata": {},
   "source": [
    "# Correct the input data"
   ]
  },
  {
   "cell_type": "markdown",
   "metadata": {},
   "source": [
    "## 0. Libraries and global variables"
   ]
  },
  {
   "cell_type": "code",
   "execution_count": 1,
   "metadata": {},
   "outputs": [],
   "source": [
    "import pandas as pd"
   ]
  },
  {
   "cell_type": "code",
   "execution_count": 2,
   "metadata": {},
   "outputs": [],
   "source": [
    "imputed_dataframe = True # Numerical variables imputed or not"
   ]
  },
  {
   "cell_type": "markdown",
   "metadata": {},
   "source": [
    "## 1. Load data"
   ]
  },
  {
   "cell_type": "markdown",
   "metadata": {},
   "source": [
    "Load data from each hospital unit. The data is available in both CSV and pickle formats, with or without imputation for numerical variables. Imputed dataframe will be used in the analysis"
   ]
  },
  {
   "cell_type": "code",
   "execution_count": 3,
   "metadata": {},
   "outputs": [
    {
     "name": "stdout",
     "output_type": "stream",
     "text": [
      "<class 'pandas.core.frame.DataFrame'>\n",
      "RangeIndex: 49970 entries, 0 to 49969\n",
      "Data columns (total 57 columns):\n",
      " #   Column                     Non-Null Count  Dtype         \n",
      "---  ------                     --------------  -----         \n",
      " 0   lab_potassium              49970 non-null  float64       \n",
      " 1   lab_rbc                    49970 non-null  float64       \n",
      " 2   lab_leukocyte              49970 non-null  float64       \n",
      " 3   lab_crp                    49970 non-null  float64       \n",
      " 4   lab_mcv                    49970 non-null  float64       \n",
      " 5   lab_sodium                 49970 non-null  float64       \n",
      " 6   lab_urea                   49970 non-null  float64       \n",
      " 7   lab_platelet               49970 non-null  float64       \n",
      " 8   lab_hct                    49970 non-null  float64       \n",
      " 9   lab_hemoglobin             49970 non-null  float64       \n",
      " 10  lab_neutrophil             49970 non-null  float64       \n",
      " 11  lab_lymphocyte_percentage  49970 non-null  float64       \n",
      " 12  lab_neutrophil_percentage  49970 non-null  float64       \n",
      " 13  lab_inr                    49970 non-null  float64       \n",
      " 14  lab_ldh                    49970 non-null  float64       \n",
      " 15  lab_alt                    49970 non-null  float64       \n",
      " 16  lab_ast                    49970 non-null  float64       \n",
      " 17  lab_ddimer                 49970 non-null  float64       \n",
      " 18  lab_glucose                49970 non-null  float64       \n",
      " 19  lab_lymphocyte             49970 non-null  float64       \n",
      " 20  lab_creatinine             49970 non-null  float64       \n",
      " 21  lab_mch                    49970 non-null  float64       \n",
      " 22  NUHSA_ENCRIPTADO           49970 non-null  object        \n",
      " 23  sex                        49970 non-null  int64         \n",
      " 24  COD_FEC_FALLECIMIENTO      13381 non-null  datetime64[ns]\n",
      " 25  centro                     49970 non-null  object        \n",
      " 26  hospital_outcome           49970 non-null  int64         \n",
      " 27  admission_datetime         49970 non-null  datetime64[ns]\n",
      " 28  discharge_datetime         49970 non-null  datetime64[ns]\n",
      " 29  num_shots                  49970 non-null  int64         \n",
      " 30  uci                        49970 non-null  int64         \n",
      " 31  provincia                  49970 non-null  object        \n",
      " 32  reinfected                 49970 non-null  category      \n",
      " 33  age                        49970 non-null  int64         \n",
      " 34  pmhx_hld                   49970 non-null  int64         \n",
      " 35  pmhx_htn                   49970 non-null  int64         \n",
      " 36  pmhx_dementia              49970 non-null  int64         \n",
      " 37  pmhx_obesity               49970 non-null  int64         \n",
      " 38  pmhx_copd                  49970 non-null  int64         \n",
      " 39  pmhx_chf                   49970 non-null  int64         \n",
      " 40  pmhx_ckd                   49970 non-null  int64         \n",
      " 41  pmhx_diabetes              49970 non-null  int64         \n",
      " 42  pmhx_ihd                   49970 non-null  int64         \n",
      " 43  pmhx_chronicliver          49970 non-null  int64         \n",
      " 44  pmhx_stroke                49970 non-null  int64         \n",
      " 45  pmhx_asthma                49970 non-null  int64         \n",
      " 46  pmhx_activecancer          49970 non-null  int64         \n",
      " 47  periodo_5                  49970 non-null  int64         \n",
      " 48  periodo_3                  49970 non-null  int64         \n",
      " 49  periodo_6                  49970 non-null  int64         \n",
      " 50  periodo_2                  49970 non-null  int64         \n",
      " 51  periodo_4                  49970 non-null  int64         \n",
      " 52  periodo_7                  49970 non-null  int64         \n",
      " 53  periodo_1                  49970 non-null  int64         \n",
      " 54  inpatient_days             49970 non-null  int64         \n",
      " 55  delta_days_death           13381 non-null  float64       \n",
      " 56  type_center                49970 non-null  category      \n",
      "dtypes: category(2), datetime64[ns](3), float64(23), int64(26), object(3)\n",
      "memory usage: 21.1+ MB\n",
      "None\n"
     ]
    }
   ],
   "source": [
    "import os\n",
    "# Get the path of imputed/not imputed data\n",
    "path = \"../../0_get_data/data/out/\"\n",
    "if imputed_dataframe:\n",
    "    path += \"patient_imputed.pkl\"\n",
    "else:\n",
    "    path += \"patient.pkl\"\n",
    "\n",
    "# Load the pickle dataframe and reset index\n",
    "df = pd.read_pickle(path).reset_index(drop=True) #TODO PONER PATH CORRECTO\n",
    "\n",
    "print(df.info())"
   ]
  },
  {
   "cell_type": "markdown",
   "metadata": {},
   "source": [
    "## 2. Perform minor correctios to df"
   ]
  },
  {
   "cell_type": "markdown",
   "metadata": {},
   "source": [
    "Rename some columns"
   ]
  },
  {
   "cell_type": "code",
   "execution_count": 4,
   "metadata": {},
   "outputs": [],
   "source": [
    "# Mapper (\"old_name\": \"new_name\")\n",
    "new_col_names = {\"COD_FEC_FALLECIMIENTO\": \"death_datetime\",\n",
    "                 \"NUHSA_ENCRIPTADO\": \"id\",\n",
    "                 \"centro\": \"center\",\n",
    "                 \"uci\": \"icu\",\n",
    "                 \"provincia\": \"province\",\n",
    "                 \"periodo_1\": \"wave_1\",\n",
    "                 \"periodo_2\": \"wave_2\",\n",
    "                 \"periodo_3\": \"wave_3\",\n",
    "                 \"periodo_4\": \"wave_4\",\n",
    "                 \"periodo_5\": \"wave_5\",\n",
    "                 \"periodo_6\": \"wave_6\",\n",
    "                 \"periodo_7\": \"wave_7\"\n",
    "                 }\n",
    "\n",
    "# perform the rename\n",
    "df.rename(columns=new_col_names, inplace=True)"
   ]
  },
  {
   "cell_type": "markdown",
   "metadata": {},
   "source": [
    "The removal of waves 1 and 2 is justified by the unavailability of vaccines at that time. These initial waves are omitted to ensure accurate analysis and representation of the data."
   ]
  },
  {
   "cell_type": "code",
   "execution_count": 5,
   "metadata": {},
   "outputs": [
    {
     "name": "stdout",
     "output_type": "stream",
     "text": [
      "Rows removed from wave_1: 17\n",
      "Rows removed from wave_2: 12481\n"
     ]
    }
   ],
   "source": [
    "# List of wave columns\n",
    "wave_columns = [\"wave_1\", \"wave_2\"]\n",
    "\n",
    "# Iterate over each wave column\n",
    "for wave_column in wave_columns:\n",
    "    print(f\"Rows removed from {wave_column}: {df[df[wave_column] == 1].shape[0]}\")\n",
    "    df = df[df[wave_column] != 1]\n",
    "\n",
    "# Drop the wave columns\n",
    "df.drop(columns=wave_columns, inplace=True)"
   ]
  },
  {
   "cell_type": "markdown",
   "metadata": {},
   "source": [
    "Reorder the columns"
   ]
  },
  {
   "cell_type": "code",
   "execution_count": 6,
   "metadata": {},
   "outputs": [
    {
     "name": "stdout",
     "output_type": "stream",
     "text": [
      "<class 'pandas.core.frame.DataFrame'>\n",
      "Index: 37472 entries, 0 to 49968\n",
      "Data columns (total 55 columns):\n",
      " #   Column                     Non-Null Count  Dtype         \n",
      "---  ------                     --------------  -----         \n",
      " 0   id                         37472 non-null  object        \n",
      " 1   sex                        37472 non-null  int64         \n",
      " 2   age                        37472 non-null  int64         \n",
      " 3   center                     37472 non-null  object        \n",
      " 4   type_center                37472 non-null  category      \n",
      " 5   num_shots                  37472 non-null  int64         \n",
      " 6   icu                        37472 non-null  int64         \n",
      " 7   province                   37472 non-null  object        \n",
      " 8   reinfected                 37472 non-null  category      \n",
      " 9   inpatient_days             37472 non-null  int64         \n",
      " 10  admission_datetime         37472 non-null  datetime64[ns]\n",
      " 11  discharge_datetime         37472 non-null  datetime64[ns]\n",
      " 12  hospital_outcome           37472 non-null  int64         \n",
      " 13  death_datetime             9724 non-null   datetime64[ns]\n",
      " 14  delta_days_death           9724 non-null   float64       \n",
      " 15  wave_3                     37472 non-null  int64         \n",
      " 16  wave_4                     37472 non-null  int64         \n",
      " 17  wave_5                     37472 non-null  int64         \n",
      " 18  wave_6                     37472 non-null  int64         \n",
      " 19  wave_7                     37472 non-null  int64         \n",
      " 20  pmhx_activecancer          37472 non-null  int64         \n",
      " 21  pmhx_asthma                37472 non-null  int64         \n",
      " 22  pmhx_chf                   37472 non-null  int64         \n",
      " 23  pmhx_chronicliver          37472 non-null  int64         \n",
      " 24  pmhx_ckd                   37472 non-null  int64         \n",
      " 25  pmhx_copd                  37472 non-null  int64         \n",
      " 26  pmhx_dementia              37472 non-null  int64         \n",
      " 27  pmhx_diabetes              37472 non-null  int64         \n",
      " 28  pmhx_hld                   37472 non-null  int64         \n",
      " 29  pmhx_htn                   37472 non-null  int64         \n",
      " 30  pmhx_ihd                   37472 non-null  int64         \n",
      " 31  pmhx_obesity               37472 non-null  int64         \n",
      " 32  pmhx_stroke                37472 non-null  int64         \n",
      " 33  lab_alt                    37472 non-null  float64       \n",
      " 34  lab_ast                    37472 non-null  float64       \n",
      " 35  lab_creatinine             37472 non-null  float64       \n",
      " 36  lab_crp                    37472 non-null  float64       \n",
      " 37  lab_ddimer                 37472 non-null  float64       \n",
      " 38  lab_glucose                37472 non-null  float64       \n",
      " 39  lab_hct                    37472 non-null  float64       \n",
      " 40  lab_hemoglobin             37472 non-null  float64       \n",
      " 41  lab_inr                    37472 non-null  float64       \n",
      " 42  lab_ldh                    37472 non-null  float64       \n",
      " 43  lab_leukocyte              37472 non-null  float64       \n",
      " 44  lab_lymphocyte             37472 non-null  float64       \n",
      " 45  lab_lymphocyte_percentage  37472 non-null  float64       \n",
      " 46  lab_mch                    37472 non-null  float64       \n",
      " 47  lab_mcv                    37472 non-null  float64       \n",
      " 48  lab_neutrophil             37472 non-null  float64       \n",
      " 49  lab_neutrophil_percentage  37472 non-null  float64       \n",
      " 50  lab_platelet               37472 non-null  float64       \n",
      " 51  lab_potassium              37472 non-null  float64       \n",
      " 52  lab_rbc                    37472 non-null  float64       \n",
      " 53  lab_sodium                 37472 non-null  float64       \n",
      " 54  lab_urea                   37472 non-null  float64       \n",
      "dtypes: category(2), datetime64[ns](3), float64(23), int64(24), object(3)\n",
      "memory usage: 15.5+ MB\n",
      "None\n"
     ]
    }
   ],
   "source": [
    "general_var_order = [\"id\",\n",
    "                     \"sex\",\n",
    "                     \"age\",\n",
    "                     \"center\",\n",
    "                     \"type_center\",\n",
    "                     \"num_shots\", \n",
    "                     \"icu\", \n",
    "                     \"province\", \n",
    "                     \"reinfected\",\n",
    "                     \"inpatient_days\",                 \n",
    "                     \"admission_datetime\",\n",
    "                     \"discharge_datetime\", \n",
    "                     \"hospital_outcome\",\n",
    "                     \"death_datetime\",\n",
    "                     \"delta_days_death\"\n",
    "                     ]\n",
    "\n",
    "waves_cols =  sorted([col for col in df.columns if col.startswith('wave')])\n",
    "pmhx_cols = sorted([col for col in df.columns if col.startswith('pmhx')])\n",
    "lab_cols = sorted([col for col in df.columns if col.startswith('lab')])\n",
    "\n",
    "# Define the desired order\n",
    "desired_orders = general_var_order + waves_cols + pmhx_cols + lab_cols\n",
    "\n",
    "# Perform the order\n",
    "df = df[desired_orders]\n",
    "print(df.info())"
   ]
  },
  {
   "cell_type": "markdown",
   "metadata": {},
   "source": [
    "Correct dtypes"
   ]
  },
  {
   "cell_type": "code",
   "execution_count": 7,
   "metadata": {},
   "outputs": [],
   "source": [
    "# Define the type of variables to change\n",
    "mapper = {\"sex\": \"category\",\n",
    "          \"center\": \"category\",\n",
    "          \"icu\": \"category\",\n",
    "          \"province\": \"category\",\n",
    "          \"hospital_outcome\": \"category\",\n",
    "          \"delta_days_death\": \"Int64\", #Int64 (accepts NA) not int64\n",
    "          \"wave_1\": \"category\",\n",
    "          \"wave_2\": \"category\",\n",
    "          \"wave_3\": \"category\",\n",
    "          \"wave_4\": \"category\",\n",
    "          \"wave_5\": \"category\",\n",
    "          \"wave_6\": \"category\",\n",
    "          \"wave_7\": \"category\",\n",
    "          \"pmhx_activecancer\": \"category\",\n",
    "          \"pmhx_asthma\": \"category\",\n",
    "          \"pmhx_chf\": \"category\",\n",
    "          \"pmhx_chronicliver\": \"category\",\n",
    "          \"pmhx_ckd\": \"category\",\n",
    "          \"pmhx_copd\": \"category\",\n",
    "          \"pmhx_dementia\": \"category\",\n",
    "          \"pmhx_diabetes\": \"category\",\n",
    "          \"pmhx_hld\": \"category\",\n",
    "          \"pmhx_htn\": \"category\",\n",
    "          \"pmhx_ihd\": \"category\",\n",
    "          \"pmhx_obesity\": \"category\",\n",
    "          \"pmhx_stroke\": \"category\",\n",
    "          }\n",
    "\n",
    "# Check the columns exists\n",
    "filtered_mapper = {column: dtype for column, dtype in mapper.items() if column in df.columns}\n",
    "\n",
    "#perform the change\n",
    "df = df.astype(filtered_mapper)"
   ]
  },
  {
   "cell_type": "code",
   "execution_count": 8,
   "metadata": {},
   "outputs": [
    {
     "name": "stdout",
     "output_type": "stream",
     "text": [
      "<class 'pandas.core.frame.DataFrame'>\n",
      "Index: 37472 entries, 0 to 49968\n",
      "Data columns (total 55 columns):\n",
      " #   Column                     Non-Null Count  Dtype         \n",
      "---  ------                     --------------  -----         \n",
      " 0   id                         37472 non-null  object        \n",
      " 1   sex                        37472 non-null  category      \n",
      " 2   age                        37472 non-null  int64         \n",
      " 3   center                     37472 non-null  category      \n",
      " 4   type_center                37472 non-null  category      \n",
      " 5   num_shots                  37472 non-null  int64         \n",
      " 6   icu                        37472 non-null  category      \n",
      " 7   province                   37472 non-null  category      \n",
      " 8   reinfected                 37472 non-null  category      \n",
      " 9   inpatient_days             37472 non-null  int64         \n",
      " 10  admission_datetime         37472 non-null  datetime64[ns]\n",
      " 11  discharge_datetime         37472 non-null  datetime64[ns]\n",
      " 12  hospital_outcome           37472 non-null  category      \n",
      " 13  death_datetime             9724 non-null   datetime64[ns]\n",
      " 14  delta_days_death           9724 non-null   Int64         \n",
      " 15  wave_3                     37472 non-null  category      \n",
      " 16  wave_4                     37472 non-null  category      \n",
      " 17  wave_5                     37472 non-null  category      \n",
      " 18  wave_6                     37472 non-null  category      \n",
      " 19  wave_7                     37472 non-null  category      \n",
      " 20  pmhx_activecancer          37472 non-null  category      \n",
      " 21  pmhx_asthma                37472 non-null  category      \n",
      " 22  pmhx_chf                   37472 non-null  category      \n",
      " 23  pmhx_chronicliver          37472 non-null  category      \n",
      " 24  pmhx_ckd                   37472 non-null  category      \n",
      " 25  pmhx_copd                  37472 non-null  category      \n",
      " 26  pmhx_dementia              37472 non-null  category      \n",
      " 27  pmhx_diabetes              37472 non-null  category      \n",
      " 28  pmhx_hld                   37472 non-null  category      \n",
      " 29  pmhx_htn                   37472 non-null  category      \n",
      " 30  pmhx_ihd                   37472 non-null  category      \n",
      " 31  pmhx_obesity               37472 non-null  category      \n",
      " 32  pmhx_stroke                37472 non-null  category      \n",
      " 33  lab_alt                    37472 non-null  float64       \n",
      " 34  lab_ast                    37472 non-null  float64       \n",
      " 35  lab_creatinine             37472 non-null  float64       \n",
      " 36  lab_crp                    37472 non-null  float64       \n",
      " 37  lab_ddimer                 37472 non-null  float64       \n",
      " 38  lab_glucose                37472 non-null  float64       \n",
      " 39  lab_hct                    37472 non-null  float64       \n",
      " 40  lab_hemoglobin             37472 non-null  float64       \n",
      " 41  lab_inr                    37472 non-null  float64       \n",
      " 42  lab_ldh                    37472 non-null  float64       \n",
      " 43  lab_leukocyte              37472 non-null  float64       \n",
      " 44  lab_lymphocyte             37472 non-null  float64       \n",
      " 45  lab_lymphocyte_percentage  37472 non-null  float64       \n",
      " 46  lab_mch                    37472 non-null  float64       \n",
      " 47  lab_mcv                    37472 non-null  float64       \n",
      " 48  lab_neutrophil             37472 non-null  float64       \n",
      " 49  lab_neutrophil_percentage  37472 non-null  float64       \n",
      " 50  lab_platelet               37472 non-null  float64       \n",
      " 51  lab_potassium              37472 non-null  float64       \n",
      " 52  lab_rbc                    37472 non-null  float64       \n",
      " 53  lab_sodium                 37472 non-null  float64       \n",
      " 54  lab_urea                   37472 non-null  float64       \n",
      "dtypes: Int64(1), category(25), datetime64[ns](3), float64(22), int64(3), object(1)\n",
      "memory usage: 9.8+ MB\n",
      "None\n"
     ]
    }
   ],
   "source": [
    "print(df.info())"
   ]
  },
  {
   "cell_type": "markdown",
   "metadata": {},
   "source": [
    "After a preliminary analysis with clinical experts, the variables `reinfected` are discarded because they have a very small n and do not show a significant improvement. In addition, the variables `province` and `center` are eliminated because they do not provide any value to the survival analysis. They will be stored in separate files to be presented as appendices."
   ]
  },
  {
   "cell_type": "code",
   "execution_count": 9,
   "metadata": {},
   "outputs": [],
   "source": [
    "df.drop(columns=[\"reinfected\"], inplace=True)\n",
    "df_annexed = df.loc[:,[\"province\", \"center\"]]\n",
    "df.drop(columns=[\"province\", \"center\"], inplace=True)"
   ]
  },
  {
   "cell_type": "markdown",
   "metadata": {},
   "source": [
    "We add a categorical column that indicate if the patient is vaccinated 14 days before the admission."
   ]
  },
  {
   "cell_type": "code",
   "execution_count": 10,
   "metadata": {},
   "outputs": [],
   "source": [
    "df[\"vaccinated\"] = df[\"num_shots\"].apply(lambda x: 1 if x > 0 else 0).astype(\"category\")"
   ]
  },
  {
   "cell_type": "code",
   "execution_count": 11,
   "metadata": {},
   "outputs": [
    {
     "name": "stdout",
     "output_type": "stream",
     "text": [
      "<class 'pandas.core.frame.DataFrame'>\n",
      "Index: 37472 entries, 0 to 49968\n",
      "Data columns (total 53 columns):\n",
      " #   Column                     Non-Null Count  Dtype         \n",
      "---  ------                     --------------  -----         \n",
      " 0   id                         37472 non-null  object        \n",
      " 1   sex                        37472 non-null  category      \n",
      " 2   age                        37472 non-null  int64         \n",
      " 3   type_center                37472 non-null  category      \n",
      " 4   num_shots                  37472 non-null  int64         \n",
      " 5   icu                        37472 non-null  category      \n",
      " 6   inpatient_days             37472 non-null  int64         \n",
      " 7   admission_datetime         37472 non-null  datetime64[ns]\n",
      " 8   discharge_datetime         37472 non-null  datetime64[ns]\n",
      " 9   hospital_outcome           37472 non-null  category      \n",
      " 10  death_datetime             9724 non-null   datetime64[ns]\n",
      " 11  delta_days_death           9724 non-null   Int64         \n",
      " 12  wave_3                     37472 non-null  category      \n",
      " 13  wave_4                     37472 non-null  category      \n",
      " 14  wave_5                     37472 non-null  category      \n",
      " 15  wave_6                     37472 non-null  category      \n",
      " 16  wave_7                     37472 non-null  category      \n",
      " 17  pmhx_activecancer          37472 non-null  category      \n",
      " 18  pmhx_asthma                37472 non-null  category      \n",
      " 19  pmhx_chf                   37472 non-null  category      \n",
      " 20  pmhx_chronicliver          37472 non-null  category      \n",
      " 21  pmhx_ckd                   37472 non-null  category      \n",
      " 22  pmhx_copd                  37472 non-null  category      \n",
      " 23  pmhx_dementia              37472 non-null  category      \n",
      " 24  pmhx_diabetes              37472 non-null  category      \n",
      " 25  pmhx_hld                   37472 non-null  category      \n",
      " 26  pmhx_htn                   37472 non-null  category      \n",
      " 27  pmhx_ihd                   37472 non-null  category      \n",
      " 28  pmhx_obesity               37472 non-null  category      \n",
      " 29  pmhx_stroke                37472 non-null  category      \n",
      " 30  lab_alt                    37472 non-null  float64       \n",
      " 31  lab_ast                    37472 non-null  float64       \n",
      " 32  lab_creatinine             37472 non-null  float64       \n",
      " 33  lab_crp                    37472 non-null  float64       \n",
      " 34  lab_ddimer                 37472 non-null  float64       \n",
      " 35  lab_glucose                37472 non-null  float64       \n",
      " 36  lab_hct                    37472 non-null  float64       \n",
      " 37  lab_hemoglobin             37472 non-null  float64       \n",
      " 38  lab_inr                    37472 non-null  float64       \n",
      " 39  lab_ldh                    37472 non-null  float64       \n",
      " 40  lab_leukocyte              37472 non-null  float64       \n",
      " 41  lab_lymphocyte             37472 non-null  float64       \n",
      " 42  lab_lymphocyte_percentage  37472 non-null  float64       \n",
      " 43  lab_mch                    37472 non-null  float64       \n",
      " 44  lab_mcv                    37472 non-null  float64       \n",
      " 45  lab_neutrophil             37472 non-null  float64       \n",
      " 46  lab_neutrophil_percentage  37472 non-null  float64       \n",
      " 47  lab_platelet               37472 non-null  float64       \n",
      " 48  lab_potassium              37472 non-null  float64       \n",
      " 49  lab_rbc                    37472 non-null  float64       \n",
      " 50  lab_sodium                 37472 non-null  float64       \n",
      " 51  lab_urea                   37472 non-null  float64       \n",
      " 52  vaccinated                 37472 non-null  category      \n",
      "dtypes: Int64(1), category(23), datetime64[ns](3), float64(22), int64(3), object(1)\n",
      "memory usage: 9.7+ MB\n",
      "None\n",
      "\n",
      "<class 'pandas.core.frame.DataFrame'>\n",
      "Index: 37472 entries, 0 to 49968\n",
      "Data columns (total 2 columns):\n",
      " #   Column    Non-Null Count  Dtype   \n",
      "---  ------    --------------  -----   \n",
      " 0   province  37472 non-null  category\n",
      " 1   center    37472 non-null  category\n",
      "dtypes: category(2)\n",
      "memory usage: 367.6 KB\n",
      "None\n"
     ]
    }
   ],
   "source": [
    "print(df.info(), end='\\n\\n')\n",
    "print(df_annexed.info())"
   ]
  },
  {
   "cell_type": "markdown",
   "metadata": {},
   "source": [
    "Let's reorder the variables."
   ]
  },
  {
   "cell_type": "code",
   "execution_count": 12,
   "metadata": {},
   "outputs": [],
   "source": [
    "new_order = ['id',\n",
    "             'sex',\n",
    "             'age',\n",
    "             'num_shots',\n",
    "             \"type_center\",\n",
    "             'vaccinated',\n",
    "             'icu',\n",
    "             'inpatient_days',\n",
    "             'admission_datetime',\n",
    "             'discharge_datetime',\n",
    "             'hospital_outcome',\n",
    "             'death_datetime',\n",
    "             'delta_days_death',\n",
    "             'wave_1', \n",
    "             'wave_2',\n",
    "             'wave_3','wave_4',\n",
    "             'wave_5',\n",
    "             'wave_6',\n",
    "             'wave_7',\n",
    "             'pmhx_activecancer',\n",
    "             'pmhx_asthma',\n",
    "             'pmhx_chf',\n",
    "             'pmhx_chronicliver',\n",
    "             'pmhx_ckd',\n",
    "             'pmhx_copd','pmhx_dementia',\n",
    "             'pmhx_diabetes',\n",
    "             'pmhx_hld',\n",
    "             'pmhx_htn',\n",
    "             'pmhx_ihd','pmhx_obesity',\n",
    "             'pmhx_stroke',\n",
    "             'lab_alt',\n",
    "             'lab_ast',\n",
    "             'lab_creatinine',\n",
    "             'lab_crp',\n",
    "             'lab_ddimer',\n",
    "             'lab_glucose',\n",
    "             'lab_hct',\n",
    "             'lab_hemoglobin',\n",
    "             'lab_inr',\n",
    "             'lab_ldh',\n",
    "             'lab_leukocyte',\n",
    "             'lab_lymphocyte',\n",
    "             'lab_lymphocyte_percentage',\n",
    "             'lab_mch',\n",
    "             'lab_mcv',\n",
    "             'lab_neutrophil',\n",
    "             'lab_neutrophil_percentage',\n",
    "             'lab_platelet',\n",
    "             'lab_potassium',\n",
    "             'lab_rbc',\n",
    "             'lab_sodium',\n",
    "             'lab_urea']\n",
    "\n",
    "# Get the intersection of existing columns and the new order\n",
    "columns_to_reorder = [col for col in new_order if col in df.columns]\n",
    "\n",
    "# Reorder the DataFrame columns\n",
    "df = df[columns_to_reorder]"
   ]
  },
  {
   "cell_type": "markdown",
   "metadata": {},
   "source": [
    "Change the levels of type_center to english"
   ]
  },
  {
   "cell_type": "code",
   "execution_count": 13,
   "metadata": {},
   "outputs": [],
   "source": [
    "type_center_EN = {\n",
    "    'Hospital comarcal': 'County Hospital',\n",
    "    'Hospital de especialidades': 'Specialized Hospital',\n",
    "    'Hospital regional': 'Regional Hospital'\n",
    "}\n",
    "\n",
    "df['type_center'] = df['type_center'].map(type_center_EN)\n"
   ]
  },
  {
   "cell_type": "markdown",
   "metadata": {},
   "source": [
    "## 3. Save corrected dataframe"
   ]
  },
  {
   "cell_type": "code",
   "execution_count": 14,
   "metadata": {},
   "outputs": [],
   "source": [
    "save_path = \"./data/\" + os.path.basename(path)\n",
    "\n",
    "df.to_pickle(save_path)\n",
    "df_annexed.to_pickle('./data/geocount_df.pkl')"
   ]
  }
 ],
 "metadata": {
  "kernelspec": {
   "display_name": "Python 3 (ipykernel)",
   "language": "python",
   "name": "python3"
  },
  "language_info": {
   "codemirror_mode": {
    "name": "ipython",
    "version": 3
   },
   "file_extension": ".py",
   "mimetype": "text/x-python",
   "name": "python",
   "nbconvert_exporter": "python",
   "pygments_lexer": "ipython3",
   "version": "3.9.16"
  }
 },
 "nbformat": 4,
 "nbformat_minor": 2
}
