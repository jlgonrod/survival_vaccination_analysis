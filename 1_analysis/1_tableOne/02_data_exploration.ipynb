{
 "cells": [
  {
   "cell_type": "markdown",
   "metadata": {},
   "source": [
    "# Explore the dataset"
   ]
  },
  {
   "cell_type": "markdown",
   "metadata": {},
   "source": [
    "## 0. Load libreries"
   ]
  },
  {
   "cell_type": "code",
   "execution_count": 9,
   "metadata": {},
   "outputs": [],
   "source": [
    "from ydata_profiling import ProfileReport\n",
    "import pandas as pd\n",
    "import webbrowser\n",
    "import os\n",
    "from scipy.stats import kstest"
   ]
  },
  {
   "cell_type": "markdown",
   "metadata": {},
   "source": [
    "## 1. Load dataframe"
   ]
  },
  {
   "cell_type": "markdown",
   "metadata": {},
   "source": [
    "Load the dataset procedes in the previous notebook."
   ]
  },
  {
   "cell_type": "code",
   "execution_count": 10,
   "metadata": {},
   "outputs": [
    {
     "name": "stdout",
     "output_type": "stream",
     "text": [
      "<class 'pandas.core.frame.DataFrame'>\n",
      "Index: 37472 entries, 0 to 49968\n",
      "Data columns (total 53 columns):\n",
      " #   Column                     Non-Null Count  Dtype         \n",
      "---  ------                     --------------  -----         \n",
      " 0   id                         37472 non-null  object        \n",
      " 1   sex                        37472 non-null  category      \n",
      " 2   age                        37472 non-null  int64         \n",
      " 3   num_shots                  37472 non-null  int64         \n",
      " 4   type_center                37472 non-null  category      \n",
      " 5   vaccinated                 37472 non-null  category      \n",
      " 6   icu                        37472 non-null  category      \n",
      " 7   inpatient_days             37472 non-null  int64         \n",
      " 8   admission_datetime         37472 non-null  datetime64[ns]\n",
      " 9   discharge_datetime         37472 non-null  datetime64[ns]\n",
      " 10  hospital_outcome           37472 non-null  category      \n",
      " 11  death_datetime             9724 non-null   datetime64[ns]\n",
      " 12  delta_days_death           9724 non-null   Int64         \n",
      " 13  wave_3                     37472 non-null  category      \n",
      " 14  wave_4                     37472 non-null  category      \n",
      " 15  wave_5                     37472 non-null  category      \n",
      " 16  wave_6                     37472 non-null  category      \n",
      " 17  wave_7                     37472 non-null  category      \n",
      " 18  pmhx_activecancer          37472 non-null  category      \n",
      " 19  pmhx_asthma                37472 non-null  category      \n",
      " 20  pmhx_chf                   37472 non-null  category      \n",
      " 21  pmhx_chronicliver          37472 non-null  category      \n",
      " 22  pmhx_ckd                   37472 non-null  category      \n",
      " 23  pmhx_copd                  37472 non-null  category      \n",
      " 24  pmhx_dementia              37472 non-null  category      \n",
      " 25  pmhx_diabetes              37472 non-null  category      \n",
      " 26  pmhx_hld                   37472 non-null  category      \n",
      " 27  pmhx_htn                   37472 non-null  category      \n",
      " 28  pmhx_ihd                   37472 non-null  category      \n",
      " 29  pmhx_obesity               37472 non-null  category      \n",
      " 30  pmhx_stroke                37472 non-null  category      \n",
      " 31  lab_alt                    37472 non-null  float64       \n",
      " 32  lab_ast                    37472 non-null  float64       \n",
      " 33  lab_creatinine             37472 non-null  float64       \n",
      " 34  lab_crp                    37472 non-null  float64       \n",
      " 35  lab_ddimer                 37472 non-null  float64       \n",
      " 36  lab_glucose                37472 non-null  float64       \n",
      " 37  lab_hct                    37472 non-null  float64       \n",
      " 38  lab_hemoglobin             37472 non-null  float64       \n",
      " 39  lab_inr                    37472 non-null  float64       \n",
      " 40  lab_ldh                    37472 non-null  float64       \n",
      " 41  lab_leukocyte              37472 non-null  float64       \n",
      " 42  lab_lymphocyte             37472 non-null  float64       \n",
      " 43  lab_lymphocyte_percentage  37472 non-null  float64       \n",
      " 44  lab_mch                    37472 non-null  float64       \n",
      " 45  lab_mcv                    37472 non-null  float64       \n",
      " 46  lab_neutrophil             37472 non-null  float64       \n",
      " 47  lab_neutrophil_percentage  37472 non-null  float64       \n",
      " 48  lab_platelet               37472 non-null  float64       \n",
      " 49  lab_potassium              37472 non-null  float64       \n",
      " 50  lab_rbc                    37472 non-null  float64       \n",
      " 51  lab_sodium                 37472 non-null  float64       \n",
      " 52  lab_urea                   37472 non-null  float64       \n",
      "dtypes: Int64(1), category(23), datetime64[ns](3), float64(22), int64(3), object(1)\n",
      "memory usage: 9.7+ MB\n"
     ]
    }
   ],
   "source": [
    "df = pd.read_pickle(\"./data/patient_imputed.pkl\")\n",
    "df.info()"
   ]
  },
  {
   "cell_type": "markdown",
   "metadata": {},
   "source": [
    "## 2. First Look"
   ]
  },
  {
   "cell_type": "markdown",
   "metadata": {},
   "source": [
    "Let's explore the full dataset using Ydata library and saving it in a html file interactive."
   ]
  },
  {
   "cell_type": "code",
   "execution_count": 11,
   "metadata": {},
   "outputs": [],
   "source": [
    "report_path = \"Ydata_report.html\"\n",
    "\n",
    "# DEACTIVATE BECAUSE IT TAKES MANY TIME, JUST RUN THE FIRS TIME\n",
    "#profile = ProfileReport(df.drop(columns='id'), title=\"Profile Report\") #REMOVE ID JUST FOR THE PLOT\n",
    "#profile.to_file(report_path)"
   ]
  },
  {
   "cell_type": "markdown",
   "metadata": {},
   "source": [
    "Let's open the file with the default navigator"
   ]
  },
  {
   "cell_type": "code",
   "execution_count": 12,
   "metadata": {},
   "outputs": [],
   "source": [
    "def open_html_file(file_path):\n",
    "    # Check if the file exists\n",
    "    if os.path.exists(file_path):\n",
    "        # Open the HTML file in the default web browser\n",
    "        webbrowser.open(file_path)\n",
    "    else:\n",
    "        print(f\"The file '{file_path}' does not exist.\")\n",
    "\n",
    "open_html_file(report_path)"
   ]
  },
  {
   "cell_type": "markdown",
   "metadata": {},
   "source": [
    "## 3. Normality"
   ]
  },
  {
   "cell_type": "markdown",
   "metadata": {},
   "source": [
    "As numerical variables typically have a large sample size, we proceed to conduct the Kolmogorov-Smirnov normality test to identify those variables that are normal and those that are not. With this information, we can then select the most representative statistics in the tableone."
   ]
  },
  {
   "cell_type": "code",
   "execution_count": 13,
   "metadata": {},
   "outputs": [
    {
     "name": "stdout",
     "output_type": "stream",
     "text": [
      "Normal Numerical Variables: []\n",
      "Non-Normal Numerical Variables (excluding dates): ['age', 'num_shots', 'inpatient_days', 'delta_days_death', 'lab_alt', 'lab_ast', 'lab_creatinine', 'lab_crp', 'lab_ddimer', 'lab_glucose', 'lab_hct', 'lab_hemoglobin', 'lab_inr', 'lab_ldh', 'lab_leukocyte', 'lab_lymphocyte', 'lab_lymphocyte_percentage', 'lab_mch', 'lab_mcv', 'lab_neutrophil', 'lab_neutrophil_percentage', 'lab_platelet', 'lab_potassium', 'lab_rbc', 'lab_sodium', 'lab_urea']\n"
     ]
    },
    {
     "name": "stdout",
     "output_type": "stream",
     "text": [
      "[GFX1-]: glxtest: ManageChildProcess failed\n",
      "\n",
      "[GFX1-]: glxtest: X error, error_code=10, request_code=150, minor_code=5\n"
     ]
    }
   ],
   "source": [
    "# List to store numerical variables that are normal\n",
    "normal_numerical_variables = []\n",
    "\n",
    "# List to store numerical variables that are not normal\n",
    "non_normal_numerical_variables = []\n",
    "\n",
    "for column in df.columns:\n",
    "    # Check if the column is numeric and not a date\n",
    "    if pd.api.types.is_numeric_dtype(df[column]) and not pd.api.types.is_datetime64_any_dtype(df[column]):\n",
    "        # Drop NaN values for the normality test\n",
    "        data_for_test = df[column].dropna()\n",
    "        \n",
    "        if data_for_test.dtype == 'Int64':\n",
    "            data_for_test = data_for_test.astype('int64')\n",
    "\n",
    "        # Perform Kolmogorov-Smirnov test\n",
    "        stat, p_value = kstest(data_for_test, 'norm')\n",
    "        \n",
    "        # Set significance level (you can adjust as needed)\n",
    "        alpha = 0.05\n",
    "        \n",
    "        # Check if p-value is less than alpha\n",
    "        if p_value > alpha:\n",
    "            normal_numerical_variables.append(column)\n",
    "        else:\n",
    "            non_normal_numerical_variables.append(column)\n",
    "\n",
    "# Print the results\n",
    "print(\"Normal Numerical Variables:\", normal_numerical_variables)\n",
    "print(\"Non-Normal Numerical Variables (excluding dates):\", non_normal_numerical_variables)"
   ]
  },
  {
   "cell_type": "markdown",
   "metadata": {},
   "source": [
    "All numerical variables in the dataset exhibit a non-normal distribution, as confirmed by the Kolmogorov-Smirnov test at a significance level of alpha = 0.05. It's important to note that dates were not included in the normality analysis. Additionally, variables with missing values, such as 'delta_days_death,' were preprocessed for the test by removing the NA values. However, it's crucial to emphasize that in the actual dataframe, these variables retain their original NA values."
   ]
  }
 ],
 "metadata": {
  "kernelspec": {
   "display_name": ".venv",
   "language": "python",
   "name": "python3"
  },
  "language_info": {
   "codemirror_mode": {
    "name": "ipython",
    "version": 3
   },
   "file_extension": ".py",
   "mimetype": "text/x-python",
   "name": "python",
   "nbconvert_exporter": "python",
   "pygments_lexer": "ipython3",
   "version": "3.9.16"
  },
  "orig_nbformat": 4
 },
 "nbformat": 4,
 "nbformat_minor": 2
}
