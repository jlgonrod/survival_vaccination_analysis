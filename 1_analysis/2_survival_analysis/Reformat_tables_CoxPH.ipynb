{
 "cells": [
  {
   "cell_type": "markdown",
   "metadata": {},
   "source": [
    "# Set a correct format the tables generated as CoxPH reports"
   ]
  },
  {
   "cell_type": "markdown",
   "metadata": {},
   "source": [
    "## 1. Libraries"
   ]
  },
  {
   "cell_type": "code",
   "execution_count": 2,
   "metadata": {},
   "outputs": [],
   "source": [
    "import pandas as pd\n",
    "import openpyxl \n",
    "import os\n",
    "import re\n",
    "import docx"
   ]
  },
  {
   "cell_type": "markdown",
   "metadata": {},
   "source": [
    "## 2. Functions"
   ]
  },
  {
   "cell_type": "code",
   "execution_count": 3,
   "metadata": {},
   "outputs": [],
   "source": [
    "def reformat_excel(folder_path, excel_name):\n",
    "    excel_file_path = folder_path + excel_name\n",
    "    \n",
    "    # Open the file\n",
    "    workbook = openpyxl.load_workbook(excel_file_path)\n",
    "    sheet = workbook.active\n",
    "\n",
    "    # Get the headers\n",
    "    headers_cell = [cell for cell in sheet[1]]\n",
    "\n",
    "    # Keep the interest headers\n",
    "    keep_cols = [\"variables\", \"exp(coef)\", \"lower .95\", \"upper .95\"]\n",
    "\n",
    "    for cell in headers_cell:\n",
    "        if cell.value not in keep_cols:\n",
    "            col_index = cell.column\n",
    "            sheet.delete_cols(col_index)\n",
    "\n",
    "\n",
    "    new_header = [\"Variables\", \"Hazard Ratio\", \"Lower CI (95%)\", \"Upper CI (95%)\"]\n",
    "\n",
    "    for i in range(1, len(sheet[1])+1):\n",
    "        cell_i = sheet.cell(row=1, column=i)\n",
    "        cell_i.value = new_header[i-1]\n",
    "\n",
    "    # Update header and adjust column widths\n",
    "    for i in range(1, len(sheet[1]) + 1):\n",
    "        cell_i = sheet.cell(row=1, column=i)\n",
    "        cell_i.value = new_header[i - 1]\n",
    "\n",
    "        # Get the maximum length of text in the column (excluding header)\n",
    "        max_length = max(len(str(cell.value)) for cell in sheet[openpyxl.utils.get_column_letter(cell_i.column)][1:])\n",
    "\n",
    "        # Adjust column width based on the maximum length\n",
    "        width = max_length\n",
    "        sheet.column_dimensions[openpyxl.utils.get_column_letter(cell_i.column)].width = width\n",
    "\n",
    "    # Apply number format to all numbers in columns B to C (excluding first row)\n",
    "    number_format_style = openpyxl.styles.NamedStyle(name='number_format_style', number_format='0.00')\n",
    "\n",
    "    # Apply the style to the entire columns C and D\n",
    "    for column in ['B','C', 'D']:\n",
    "        for cell in sheet[column][1:]: \n",
    "            cell.style = number_format_style\n",
    "\n",
    "    # Add a header in the top to identify the table\n",
    "    sheet.insert_rows(1)\n",
    "\n",
    "    pattern = re.compile(r'Table_\\d+_(.*)\\.xlsx')\n",
    "    table_name = pattern.match(excel_name).group(1)\n",
    "    table_name = re.sub(\"_\", \" \", table_name)\n",
    "    sheet['A1'].value = table_name\n",
    "\n",
    "    ######### colors #########\n",
    "    color_green1 = openpyxl.styles.colors.Color(rgb='007932')\n",
    "    color_green2 = openpyxl.styles.colors.Color(rgb='368f3f')\n",
    "    color_gray1 = openpyxl.styles.colors.Color(rgb='c9c9c9')\n",
    "    color_white = openpyxl.styles.colors.Color(rgb='ffffff')\n",
    "\n",
    "    ######### Set Header formats #########\n",
    "\n",
    "    # Set name table format\n",
    "    merge_range = f'A1:{openpyxl.utils.get_column_letter(sheet.max_column)}1'\n",
    "    sheet.merge_cells(merge_range)\n",
    "\n",
    "    sheet.row_dimensions[1].height = 40\n",
    "    sheet[\"A1\"].alignment = openpyxl.styles.Alignment(horizontal='center', vertical='center')\n",
    "    sheet[\"A1\"].fill = openpyxl.styles.fills.PatternFill(patternType='solid', fgColor=color_green1)\n",
    "    sheet[\"A1\"].font = openpyxl.styles.Font(name=\"SourceSansPro\", size=15, bold=True, color=color_white)\n",
    "\n",
    "    # Set subheaders\n",
    "    sheet.row_dimensions[2].height = 25\n",
    "    cell_range = f'A2:{openpyxl.utils.get_column_letter(sheet.max_column)}2'\n",
    "\n",
    "    for row in sheet[cell_range]:\n",
    "        for cell in row:\n",
    "            cell.alignment = openpyxl.styles.Alignment(horizontal='center', vertical='center')\n",
    "            cell.fill = openpyxl.styles.fills.PatternFill(patternType='solid', fgColor=color_green2)\n",
    "            cell.font = openpyxl.styles.Font(name=\"SourceSansPro\", size=11, bold=True, color=color_white)\n",
    "\n",
    "    ######### Set Body formats #########\n",
    "    range_cells = f'A3:{openpyxl.utils.get_column_letter(sheet.max_column)}{sheet.max_row}'\n",
    "    for row in sheet[range_cells]:\n",
    "        for cell in row:\n",
    "            if cell.row % 2 == 0:\n",
    "                cell.fill = openpyxl.styles.fills.PatternFill(patternType='solid', fgColor=color_gray1)\n",
    "            cell.font = openpyxl.styles.Font(name=\"SourceSansPro\", size=10, bold=False)\n",
    "\n",
    "    ######### Save #########\n",
    "    workbook.save(excel_file_path)\n",
    "    print(f\"File {excel_name} correctly formated.\")"
   ]
  },
  {
   "cell_type": "markdown",
   "metadata": {},
   "source": [
    "## 3. Get and transform the files"
   ]
  },
  {
   "cell_type": "code",
   "execution_count": 4,
   "metadata": {},
   "outputs": [],
   "source": [
    "out_path = \"../OUTPUT_figures_tables/\"\n",
    "exel_list = os.listdir(out_path)\n",
    "\n",
    "pattern = re.compile(r'.*Model.*\\.xlsx')\n",
    "excel_list = [element for element in exel_list if pattern.match(element)]"
   ]
  },
  {
   "cell_type": "markdown",
   "metadata": {},
   "source": [
    "Iterate over each file"
   ]
  },
  {
   "cell_type": "code",
   "execution_count": 5,
   "metadata": {},
   "outputs": [
    {
     "name": "stdout",
     "output_type": "stream",
     "text": [
      "File Table_6_Cox_Model_Report.xlsx correctly formated.\n",
      "File Table_8_Cox_Model_Report_Over 80 years (Group A).xlsx correctly formated.\n",
      "File Table_9_Cox_Model_Report_Over 70 years (Group B).xlsx correctly formated.\n",
      "File Table_11_Cox_Model_Report_Over 40 years (Group D).xlsx correctly formated.\n",
      "File Table_7_Cox_Model_Refined_Report.xlsx correctly formated.\n",
      "File Table_13_Cox_Model_Report_Stratification Unprotected, Protected and Incomplete.xlsx correctly formated.\n",
      "File Table_12_Cox_Model_Report_Over 18 years (Group E).xlsx correctly formated.\n",
      "File Table_10_Cox_Model_Report_Over 60 years (Group C).xlsx correctly formated.\n"
     ]
    }
   ],
   "source": [
    "for excel_file in excel_list:\n",
    "    reformat_excel(out_path, excel_file)"
   ]
  }
 ],
 "metadata": {
  "kernelspec": {
   "display_name": ".venv",
   "language": "python",
   "name": "python3"
  },
  "language_info": {
   "codemirror_mode": {
    "name": "ipython",
    "version": 3
   },
   "file_extension": ".py",
   "mimetype": "text/x-python",
   "name": "python",
   "nbconvert_exporter": "python",
   "pygments_lexer": "ipython3",
   "version": "3.9.16"
  },
  "orig_nbformat": 4
 },
 "nbformat": 4,
 "nbformat_minor": 2
}
